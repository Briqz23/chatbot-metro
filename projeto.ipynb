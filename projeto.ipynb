{
 "cells": [
  {
   "cell_type": "markdown",
   "metadata": {},
   "source": [
    "## Imports\n"
   ]
  },
  {
   "cell_type": "code",
   "execution_count": 174,
   "metadata": {},
   "outputs": [],
   "source": [
    "from langchain_community.chat_models import ChatOpenAI\n",
    "from langchain_community.document_loaders import WebBaseLoader\n",
    "from langchain_community.vectorstores.faiss import FAISS\n",
    "from langchain_community.tools import DuckDuckGoSearchRun\n",
    "\n",
    "from langchain.text_splitter import RecursiveCharacterTextSplitter\n",
    "from langchain.prompts import ChatPromptTemplate, MessagesPlaceholder\n",
    "from langchain.agents import AgentExecutor\n",
    "from langchain.agents import create_openai_tools_agent\n",
    "from langchain_openai import OpenAIEmbeddings\n",
    "\n",
    "from langchain.tools.retriever import create_retriever_tool\n",
    "\n",
    "from langchain.utils.math import cosine_similarity\n",
    "from langchain_community.tools import WikipediaQueryRun\n",
    "from langchain_community.utilities import WikipediaAPIWrapper\n",
    "from openai import OpenAI\n",
    "from dotenv import load_dotenv\n"
   ]
  },
  {
   "cell_type": "markdown",
   "metadata": {},
   "source": [
    "## Pegando .env api"
   ]
  },
  {
   "cell_type": "code",
   "execution_count": 175,
   "metadata": {},
   "outputs": [],
   "source": [
    "load_dotenv() \n",
    "client = OpenAI()"
   ]
  },
  {
   "cell_type": "markdown",
   "metadata": {},
   "source": [
    "## loadando modelo"
   ]
  },
  {
   "cell_type": "code",
   "execution_count": 176,
   "metadata": {},
   "outputs": [],
   "source": [
    "\n",
    "model = ChatOpenAI(\n",
    "    model='gpt-3.5-turbo-1106',\n",
    "    temperature=0.7\n",
    ")"
   ]
  },
  {
   "cell_type": "markdown",
   "metadata": {},
   "source": [
    "## loaders e splitting"
   ]
  },
  {
   "cell_type": "code",
   "execution_count": 177,
   "metadata": {},
   "outputs": [],
   "source": [
    "\n",
    "loader_web = WebBaseLoader(\"https://www.metro.sp.gov.br/\")\n",
    "docs = loader_web.load()\n",
    "    \n",
    "splitter = RecursiveCharacterTextSplitter(\n",
    "    chunk_size=200,\n",
    "    chunk_overlap=20\n",
    ")"
   ]
  },
  {
   "cell_type": "markdown",
   "metadata": {},
   "source": [
    "## definindo db"
   ]
  },
  {
   "cell_type": "code",
   "execution_count": 178,
   "metadata": {},
   "outputs": [],
   "source": [
    "embedding = OpenAIEmbeddings()\n",
    "vectorStore = FAISS.from_documents(splitter.split_documents(docs), embedding=OpenAIEmbeddings())\n",
    "retriever = vectorStore.as_retriever(search_kwargs={\"k\": 3})"
   ]
  },
  {
   "cell_type": "markdown",
   "metadata": {},
   "source": [
    "## Templates"
   ]
  },
  {
   "cell_type": "code",
   "execution_count": 179,
   "metadata": {},
   "outputs": [],
   "source": [
    "agente_rotas_template = \"\"\"\n",
    "Você só resposnde perguntas relacionadas ao metrô de São Paulo. \\\n",
    "Você é um especialista no sistema de Metrô de São Paulo, com foco em determinar as melhores rotas para os passageiros. \\\n",
    "      Você tem amplo conhecimento sobre as linhas do metrô, suas interligações e horários de pico, fornecendo alternativas rápidas e eficientes para quem utiliza o metrô. \\\n",
    "      Responda em ate 15 palavras, com informações claras e precisas.\n",
    "\"\"\"\n",
    "\n",
    "agente_horarios_template = \"\"\"\n",
    "Você só resposnde perguntas relacionadas ao metrô de São Paulo. \\\n",
    "Você é um especialista em atualizações sobre o sistema de Metrô de São Paulo. \\\n",
    "    Você informa sobre greves, interrupções e atrasos, além de conhecer detalhadamente os horários de operação do metrô. \\\n",
    "        Você sugere opções alternativas para os passageiros durante períodos de interrupção do serviço. \\\n",
    "        Responda em ate 15 palavras, com informações claras e precisas.\n",
    "        \n",
    "\n",
    "\"\"\"\n",
    "\n",
    "agente_politicas_template = \"\"\"\n",
    "Você só resposnde perguntas relacionadas ao metrô de São Paulo. \\\n",
    "Você é um especialista em políticas públicas relacionadas ao sistema de Metrô de São Paulo. \\\n",
    "    Você tem conhecimento detalhado sobre as leis, regulamentos e iniciativas que afetam o metrô, e oferece respostas claras \\\n",
    "        e baseadas em fatos sobre como essas políticas impactam os passageiros. \\\n",
    "        Responda em ate 15 palavras, com informações claras e precisas.\n",
    "\"\"\"\n",
    "\n"
   ]
  },
  {
   "cell_type": "markdown",
   "metadata": {},
   "source": [
    "## Exemplos de perguntas pra semantic routing"
   ]
  },
  {
   "cell_type": "code",
   "execution_count": 180,
   "metadata": {},
   "outputs": [],
   "source": [
    "rotas_perguntas = [\n",
    "    \"Qual é a rota mais rápida da estação Sé até a estação Vila Madalena?\",\n",
    "    \"Como posso evitar as estações mais lotadas durante o horário de pico?\",\n",
    "    \"Quais são as melhores conexões entre as linhas azul e verde do metrô?\",\n",
    "]\n",
    "\n",
    "horarios_perguntas = [\n",
    "    \"Há alguma greve no Metrô de São Paulo programada para esta semana?\",\n",
    "    \"O metrô está funcionando normalmente durante o feriado?\",\n",
    "    \"Quais são os horários de operação do metrô aos domingos?\",\n",
    "]\n",
    "\n",
    "politicas_perguntas = [\n",
    "    \"Quais são as políticas de acessibilidade nas estações do Metrô de São Paulo?\",\n",
    "    \"Como as tarifas do metrô são decididas e ajustadas?\",\n",
    "    \"Quais são as políticas de sustentabilidade adotadas pelo Metrô de São Paulo?\",\n",
    "]\n"
   ]
  },
  {
   "cell_type": "markdown",
   "metadata": {},
   "source": [
    "## Fazendo embeddings com os exemplos pra calcular qual o cosseno e poder classificar a dúvida"
   ]
  },
  {
   "cell_type": "code",
   "execution_count": 181,
   "metadata": {},
   "outputs": [],
   "source": [
    "embeddings = OpenAIEmbeddings()\n",
    "\n",
    "rotas_perguntas_embeddings = embeddings.embed_documents(rotas_perguntas)\n",
    "horarios_perguntas_embeddings = embeddings.embed_documents(horarios_perguntas)\n",
    "politicas_perguntas_embeddings = embeddings.embed_documents(politicas_perguntas)"
   ]
  },
  {
   "cell_type": "markdown",
   "metadata": {},
   "source": [
    "## LLM routing com busca semântica"
   ]
  },
  {
   "cell_type": "code",
   "execution_count": 182,
   "metadata": {},
   "outputs": [],
   "source": [
    "def prompt_router(input):\n",
    "    query_embedding = embeddings.embed_query(input[\"query\"])\n",
    "\n",
    "    rotas_similarity = cosine_similarity([query_embedding], rotas_perguntas_embeddings)[0]\n",
    "\n",
    "    horarios_similarity = cosine_similarity([query_embedding], horarios_perguntas_embeddings)[0]\n",
    "\n",
    "    politicas_similarity = cosine_similarity([query_embedding], politicas_perguntas_embeddings)[0]\n",
    "\n",
    "    max_similarity = max(\n",
    "        max(rotas_similarity), max(horarios_similarity), max(politicas_similarity)\n",
    "    )\n",
    "\n",
    "    if max_similarity == max(rotas_similarity):\n",
    "        prompt_escolhido = \"rotas\"\n",
    "    elif max_similarity == max(horarios_similarity):\n",
    "        prompt_escolhido = \"horarios\"\n",
    "    else:\n",
    "        prompt_escolhido = \"politicas\"\n",
    "    return prompt_escolhido"
   ]
  },
  {
   "cell_type": "markdown",
   "metadata": {},
   "source": [
    "## Tool do duck duck go"
   ]
  },
  {
   "cell_type": "code",
   "execution_count": 183,
   "metadata": {},
   "outputs": [],
   "source": [
    "duckduckgo = DuckDuckGoSearchRun()\n",
    "\n",
    "api_wrapper = WikipediaAPIWrapper(top_k_results=1,document_content_chars_max=200)   \n",
    "wiki = WikipediaQueryRun(api_wrapper = api_wrapper)\n",
    "\n",
    "retriever_tool = create_retriever_tool(retriever, \"langsmith_search\", \"Pesquisa e retorna informações sobre o Metrô de São Paulo.\")\n",
    "tools = [duckduckgo, retriever_tool, wiki]"
   ]
  },
  {
   "cell_type": "markdown",
   "metadata": {},
   "source": [
    "## gerando prmpt a depender do output do routing"
   ]
  },
  {
   "cell_type": "code",
   "execution_count": 184,
   "metadata": {},
   "outputs": [],
   "source": [
    "def gerar_prompt(prompt_escolhido):\n",
    "    templates = {\n",
    "        \"rotas\": agente_rotas_template,\n",
    "        \"horarios\": agente_horarios_template,\n",
    "        \"default\": agente_politicas_template\n",
    "    }\n",
    "\n",
    "    template = templates.get(prompt_escolhido, templates[\"default\"])\n",
    "\n",
    "    prompt = ChatPromptTemplate.from_messages(\n",
    "        [\n",
    "            (\"system\", template),\n",
    "            (\"user\", \"{input}\"),\n",
    "            MessagesPlaceholder(variable_name=\"agent_scratchpad\"),\n",
    "        ]\n",
    "    )\n",
    "\n",
    "    return prompt\n"
   ]
  },
  {
   "cell_type": "markdown",
   "metadata": {},
   "source": [
    "## Definindo pergunta"
   ]
  },
  {
   "cell_type": "code",
   "execution_count": 185,
   "metadata": {},
   "outputs": [],
   "source": [
    "pergunta = str(input(\"Digite sua pergunta: \"))"
   ]
  },
  {
   "cell_type": "code",
   "execution_count": 186,
   "metadata": {},
   "outputs": [],
   "source": [
    "def gerar_prompt(prompt_escolhido):\n",
    "    templates = {\n",
    "        \"rotas\": agente_rotas_template,\n",
    "        \"horarios\": agente_horarios_template,\n",
    "        \"default\": agente_politicas_template\n",
    "    }\n",
    "\n",
    "    template = templates.get(prompt_escolhido, templates[\"default\"])\n",
    "\n",
    "    prompt = ChatPromptTemplate.from_messages(\n",
    "        [\n",
    "            (\"system\", template),\n",
    "            (\"user\", \"{input}\"),\n",
    "            MessagesPlaceholder(variable_name=\"agent_scratchpad\"),\n",
    "        ]\n",
    "    )\n",
    "\n",
    "    return prompt\n"
   ]
  },
  {
   "cell_type": "code",
   "execution_count": 187,
   "metadata": {},
   "outputs": [
    {
     "name": "stdout",
     "output_type": "stream",
     "text": [
      "\n",
      "\n",
      "\u001b[1m> Entering new AgentExecutor chain...\u001b[0m\n",
      "\u001b[32;1m\u001b[1;3m\n",
      "Invoking: `langsmith_search` with `{'query': 'como vou da linha verde para a linha amarela no metrô de são paulo'}`\n",
      "\n",
      "\n",
      "\u001b[0m\u001b[33;1m\u001b[1;3mPara onde você vai?Saiba como chegar ao seu destino\n",
      "\n",
      "\n",
      "\n",
      "\n",
      "\n",
      "\n",
      "Direto do Metrô\n",
      "\n",
      "Metrô | Cia. do Metropolitano de São Paulo\n",
      "\n",
      "\n",
      "\n",
      "\n",
      "\n",
      "\n",
      "\n",
      "\n",
      "\n",
      "\n",
      "\n",
      "\n",
      "\n",
      "\n",
      "\n",
      "\n",
      "\n",
      "\n",
      "\n",
      "\n",
      "\n",
      "\n",
      "\n",
      "\n",
      "\n",
      "\n",
      "\n",
      "\n",
      "\n",
      " \n",
      "\n",
      "\n",
      "\n",
      "\n",
      "\n",
      "Skip to main content\n",
      "\n",
      "\n",
      "\n",
      "\n",
      "\n",
      "\n",
      "\n",
      "\n",
      "\n",
      "\n",
      "\n",
      "SP + Digital\n",
      "\n",
      "\n",
      "\n",
      "\n",
      "\n",
      "\n",
      "\n",
      "/governosp\n",
      "\n",
      "\n",
      "\n",
      "\n",
      "\n",
      "\n",
      "\n",
      "\n",
      "\n",
      "\n",
      "\n",
      "\n",
      "\n",
      "SP + Digital\n",
      "\n",
      "\n",
      "\n",
      "\n",
      "\n",
      "\n",
      "\n",
      "/governosp\n",
      "\n",
      "Imóveis para venda e locação\n",
      "\n",
      "\n",
      "\n",
      "\n",
      "\n",
      "\n",
      "\n",
      "\n",
      "Anuncie no Metrô\n",
      "\n",
      "\n",
      "\n",
      "\n",
      "\n",
      "\n",
      "Serviços de Consultoria\n",
      "\n",
      "\n",
      "\n",
      "\n",
      "\n",
      "\n",
      "Comércio\n",
      "\n",
      "\n",
      "\n",
      "\n",
      "\n",
      "\n",
      "Parcerias Institucionais\n",
      "\n",
      "\n",
      "\n",
      "\n",
      "\n",
      "\n",
      "Expansão e Obras\n",
      "\n",
      "\n",
      "\n",
      "\n",
      "\n",
      " \n",
      "\n",
      "\n",
      "Obras da Linha 2-Verde\u001b[0m\u001b[32;1m\u001b[1;3mPara ir da Linha Verde para a Linha Amarela, pegue a Linha Verde até a estação Paulista e então troque para a Linha Amarela.\u001b[0m\n",
      "\n",
      "\u001b[1m> Finished chain.\u001b[0m\n"
     ]
    },
    {
     "data": {
      "text/plain": [
       "{'input': 'como vou da linha verde pra amarela?',\n",
       " 'output': 'Para ir da Linha Verde para a Linha Amarela, pegue a Linha Verde até a estação Paulista e então troque para a Linha Amarela.'}"
      ]
     },
     "execution_count": 187,
     "metadata": {},
     "output_type": "execute_result"
    }
   ],
   "source": [
    "prompt = gerar_prompt(prompt_router({\"query\": pergunta}))\n",
    "\n",
    "agent = create_openai_tools_agent(model, tools, prompt)\n",
    "agent_executer = AgentExecutor(agent=agent, tools=tools, verbose=True)\n",
    "agent_executer.invoke({\"input\":pergunta})\n",
    "\n"
   ]
  }
 ],
 "metadata": {
  "kernelspec": {
   "display_name": "venv",
   "language": "python",
   "name": "python3"
  },
  "language_info": {
   "codemirror_mode": {
    "name": "ipython",
    "version": 3
   },
   "file_extension": ".py",
   "mimetype": "text/x-python",
   "name": "python",
   "nbconvert_exporter": "python",
   "pygments_lexer": "ipython3",
   "version": "3.10.0"
  }
 },
 "nbformat": 4,
 "nbformat_minor": 2
}
