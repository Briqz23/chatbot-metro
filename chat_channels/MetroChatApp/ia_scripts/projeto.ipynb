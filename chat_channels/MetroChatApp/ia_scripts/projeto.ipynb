{
 "cells": [
  {
   "cell_type": "markdown",
   "metadata": {},
   "source": [
    "## Imports\n"
   ]
  },
  {
   "cell_type": "code",
   "execution_count": 32,
   "metadata": {},
   "outputs": [],
   "source": [
    "from langchain_community.chat_models import ChatOpenAI\n",
    "from langchain_community.document_loaders import WebBaseLoader\n",
    "from langchain_community.vectorstores.faiss import FAISS\n",
    "from langchain_community.tools import DuckDuckGoSearchRun\n",
    "\n",
    "from langchain.text_splitter import RecursiveCharacterTextSplitter\n",
    "from langchain.prompts import ChatPromptTemplate, MessagesPlaceholder\n",
    "from langchain.agents import AgentExecutor\n",
    "from langchain.agents import create_openai_tools_agent\n",
    "from langchain_openai import OpenAIEmbeddings\n",
    "\n",
    "from langchain.tools.retriever import create_retriever_tool\n",
    "\n",
    "from langchain.utils.math import cosine_similarity\n",
    "from langchain_community.tools import WikipediaQueryRun\n",
    "from langchain_community.utilities import WikipediaAPIWrapper\n",
    "from openai import OpenAI\n",
    "from dotenv import load_dotenv\n"
   ]
  },
  {
   "cell_type": "markdown",
   "metadata": {},
   "source": [
    "## Pegando .env api"
   ]
  },
  {
   "cell_type": "code",
   "execution_count": 33,
   "metadata": {},
   "outputs": [],
   "source": [
    "load_dotenv() \n",
    "client = OpenAI()"
   ]
  },
  {
   "cell_type": "markdown",
   "metadata": {},
   "source": [
    "## loadando modelo"
   ]
  },
  {
   "cell_type": "code",
   "execution_count": 34,
   "metadata": {},
   "outputs": [],
   "source": [
    "\n",
    "model = ChatOpenAI(\n",
    "    model='gpt-3.5-turbo-1106',\n",
    "    temperature=0.7\n",
    ")"
   ]
  },
  {
   "cell_type": "markdown",
   "metadata": {},
   "source": [
    "## loaders e splitting"
   ]
  },
  {
   "cell_type": "code",
   "execution_count": 35,
   "metadata": {},
   "outputs": [],
   "source": [
    "\n",
    "loader_web = WebBaseLoader(\"https://www.metro.sp.gov.br/\")\n",
    "docs = loader_web.load()\n",
    "    \n",
    "splitter = RecursiveCharacterTextSplitter(\n",
    "    chunk_size=200,\n",
    "    chunk_overlap=20\n",
    ")"
   ]
  },
  {
   "cell_type": "markdown",
   "metadata": {},
   "source": [
    "## definindo db"
   ]
  },
  {
   "cell_type": "code",
   "execution_count": 36,
   "metadata": {},
   "outputs": [],
   "source": [
    "embedding = OpenAIEmbeddings()\n",
    "vectorStore = FAISS.from_documents(splitter.split_documents(docs), embedding=OpenAIEmbeddings())\n",
    "retriever = vectorStore.as_retriever(search_kwargs={\"k\": 3})"
   ]
  },
  {
   "cell_type": "markdown",
   "metadata": {},
   "source": [
    "## Templates"
   ]
  },
  {
   "cell_type": "code",
   "execution_count": 37,
   "metadata": {},
   "outputs": [],
   "source": [
    "system_rotas_template = \"\"\"\n",
    "        Você só resposnde perguntas relacionadas ao metrô de São Paulo. \\\n",
    "        Você é um especialista no sistema de Metrô de São Paulo em rotas. \\\n",
    "        Você tem amplo conhecimento sobre as linhas do metrô, suas interligações e horários de pico, fornecendo alternativas rápidas e eficientes para quem utiliza o metrô. \\\n",
    "        Responda em ate 15 palavras, com informações claras e precisas.\n",
    "\n",
    "    \"\"\"\n",
    "\n",
    "system_horarios_template = \"\"\"\n",
    "        Você só resposnde perguntas relacionadas ao metrô de São Paulo. \\\n",
    "        Você é um especialista em atualizações sobre o sistema de Metrô de São Paulo. \\\n",
    "        Você informa sobre greves, interrupções e atrasos, além de conhecer detalhadamente os horários de operação do metrô. \\\n",
    "        Você sugere opções alternativas para os passageiros durante períodos de interrupção do serviço. \\\n",
    "        Responda em ate 15 palavras, com informações claras e precisas.\n",
    " \n",
    "\n",
    "\"\"\"\n",
    "\n",
    "system_politicas_template = \"\"\"\n",
    "        Você só resposnde perguntas relacionadas ao metrô de São Paulo. \\\n",
    "        Você é um especialista em políticas públicas relacionadas ao sistema de Metrô de São Paulo. \\\n",
    "        Você tem conhecimento detalhado sobre as leis, regulamentos e iniciativas que afetam o metrô, e oferece respostas claras \\\n",
    "        e baseadas em fatos sobre como essas políticas impactam os passageiros. \\\n",
    "        Responda em ate 15 palavras, com informações claras e precisas.\n",
    "\n",
    "        \"\"\"\n",
    "\n"
   ]
  },
  {
   "cell_type": "markdown",
   "metadata": {},
   "source": [
    "## Exemplos de perguntas pra semantic routing"
   ]
  },
  {
   "cell_type": "code",
   "execution_count": 38,
   "metadata": {},
   "outputs": [],
   "source": [
    "rotas_perguntas = [\n",
    "    \"Qual é a rota mais rápida da estação Sé até a estação Vila Madalena?\",\n",
    "    \"Como posso evitar as estações mais lotadas durante o horário de pico?\",\n",
    "    \"Quais são as melhores conexões entre as linhas azul e verde do metrô?\",\n",
    "]\n",
    "\n",
    "horarios_perguntas = [\n",
    "    \"Há alguma greve no Metrô de São Paulo programada para esta semana?\",\n",
    "    \"O metrô está funcionando normalmente durante o feriado?\",\n",
    "    \"Quais são os horários de operação do metrô aos domingos?\",\n",
    "]\n",
    "\n",
    "politicas_perguntas = [\n",
    "    \"Quais são as políticas de acessibilidade nas estações do Metrô de São Paulo?\",\n",
    "    \"Como as tarifas do metrô são decididas e ajustadas?\",\n",
    "    \"Quais são as políticas de sustentabilidade adotadas pelo Metrô de São Paulo?\",\n",
    "]\n"
   ]
  },
  {
   "cell_type": "markdown",
   "metadata": {},
   "source": [
    "## Fazendo embeddings com os exemplos pra calcular qual o cosseno e poder classificar a dúvida"
   ]
  },
  {
   "cell_type": "code",
   "execution_count": 39,
   "metadata": {},
   "outputs": [],
   "source": [
    "embeddings = OpenAIEmbeddings()\n",
    "\n",
    "rotas_perguntas_embeddings = embeddings.embed_documents(rotas_perguntas)\n",
    "horarios_perguntas_embeddings = embeddings.embed_documents(horarios_perguntas)\n",
    "politicas_perguntas_embeddings = embeddings.embed_documents(politicas_perguntas)"
   ]
  },
  {
   "cell_type": "markdown",
   "metadata": {},
   "source": [
    "## LLM routing com busca semântica"
   ]
  },
  {
   "cell_type": "code",
   "execution_count": 40,
   "metadata": {},
   "outputs": [],
   "source": [
    "def prompt_router(input):\n",
    "    query_embedding = embeddings.embed_query(input[\"query\"])\n",
    "\n",
    "    rotas_similarity = cosine_similarity([query_embedding], rotas_perguntas_embeddings)[0]\n",
    "\n",
    "    horarios_similarity = cosine_similarity([query_embedding], horarios_perguntas_embeddings)[0]\n",
    "\n",
    "    politicas_similarity = cosine_similarity([query_embedding], politicas_perguntas_embeddings)[0]\n",
    "\n",
    "    max_similarity = max(\n",
    "        max(rotas_similarity), max(horarios_similarity), max(politicas_similarity)\n",
    "    )\n",
    "\n",
    "    if max_similarity == max(rotas_similarity):\n",
    "        template = system_rotas_template,\n",
    "    elif max_similarity == max(horarios_similarity):\n",
    "        template=system_horarios_template\n",
    "    else:\n",
    "        template=system_politicas_template\n",
    "    return template"
   ]
  },
  {
   "cell_type": "markdown",
   "metadata": {},
   "source": [
    "## gerando prmpt a depender do output do routing"
   ]
  },
  {
   "cell_type": "code",
   "execution_count": 41,
   "metadata": {},
   "outputs": [],
   "source": [
    "#\"Qual é a rota mais rápida da estação Sé até a estação Vila Madalena?\"\n",
    "pergunta = \"QUal a rota do metro consolacao até o aeroporto de guarulhos\"\n",
    "\n",
    "template = str(prompt_router({\"query\": pergunta}))\n",
    "prompt = ChatPromptTemplate.from_messages(\n",
    "    [\n",
    "        (\"system\", template),\n",
    "        MessagesPlaceholder(\"chat_history\"),\n",
    "        (\"user\", \"{input}\"),\n",
    "    ]\n",
    ")\n",
    "chain = prompt | model\n"
   ]
  },
  {
   "cell_type": "markdown",
   "metadata": {},
   "source": [
    "## instancia RedisChatMessageHistory "
   ]
  },
  {
   "cell_type": "code",
   "execution_count": 42,
   "metadata": {},
   "outputs": [],
   "source": [
    "from langchain_core.chat_history import BaseChatMessageHistory\n",
    "from langchain_core.messages import AIMessage, HumanMessage\n",
    "from langchain_core.prompts import ChatPromptTemplate, MessagesPlaceholder\n",
    "from langchain_core.runnables.history import RunnableWithMessageHistory\n",
    "from langchain_openai import ChatOpenAI\n",
    "from langchain_redis import RedisChatMessageHistory\n",
    "\n",
    "import os\n",
    "REDIS_URL =\"redis://localhost:6379\"\n",
    "history = RedisChatMessageHistory(session_id=\"123213\", redis_url=REDIS_URL)\n",
    "def get_redis_history(session_id: str) -> BaseChatMessageHistory:\n",
    "    return RedisChatMessageHistory(session_id, redis_url=REDIS_URL)\n",
    "\n"
   ]
  },
  {
   "cell_type": "markdown",
   "metadata": {},
   "source": [
    "## runnable"
   ]
  },
  {
   "cell_type": "code",
   "execution_count": 43,
   "metadata": {},
   "outputs": [],
   "source": [
    "chain_with_history = RunnableWithMessageHistory(\n",
    "    chain, get_redis_history, input_messages_key=\"input\", history_messages_key=\"chat_history\"\n",
    ")\n",
    "\n"
   ]
  },
  {
   "cell_type": "code",
   "execution_count": 53,
   "metadata": {},
   "outputs": [
    {
     "name": "stdout",
     "output_type": "stream",
     "text": [
      "É verdade, meu chapa, tem que fazer baldeação na estação Sé para seguir até a Consolação. Mas é de boa, rapidinho você faz essa troca e segue o rolê!\n"
     ]
    },
    {
     "ename": "KeyboardInterrupt",
     "evalue": "Interrupted by user",
     "output_type": "error",
     "traceback": [
      "\u001b[1;31m---------------------------------------------------------------------------\u001b[0m",
      "\u001b[1;31mKeyboardInterrupt\u001b[0m                         Traceback (most recent call last)",
      "Cell \u001b[1;32mIn[53], line 18\u001b[0m\n\u001b[0;32m     11\u001b[0m response1 \u001b[38;5;241m=\u001b[39m chain_with_history\u001b[38;5;241m.\u001b[39minvoke(\n\u001b[0;32m     12\u001b[0m     \n\u001b[0;32m     13\u001b[0m     {\u001b[38;5;124m\"\u001b[39m\u001b[38;5;124minput\u001b[39m\u001b[38;5;124m\"\u001b[39m: pergunta},\n\u001b[0;32m     14\u001b[0m     config\u001b[38;5;241m=\u001b[39m{\u001b[38;5;124m\"\u001b[39m\u001b[38;5;124mconfigurable\u001b[39m\u001b[38;5;124m\"\u001b[39m: {\u001b[38;5;124m\"\u001b[39m\u001b[38;5;124msession_id\u001b[39m\u001b[38;5;124m\"\u001b[39m: \u001b[38;5;124m\"\u001b[39m\u001b[38;5;124m1121\u001b[39m\u001b[38;5;124m\"\u001b[39m}},\n\u001b[0;32m     15\u001b[0m )\n\u001b[0;32m     17\u001b[0m \u001b[38;5;28mprint\u001b[39m(response1\u001b[38;5;241m.\u001b[39mcontent)\n\u001b[1;32m---> 18\u001b[0m pergunta \u001b[38;5;241m=\u001b[39m \u001b[38;5;28mstr\u001b[39m(\u001b[38;5;28;43minput\u001b[39;49m\u001b[43m(\u001b[49m\u001b[38;5;124;43m\"\u001b[39;49m\u001b[38;5;124;43mpergunta: \u001b[39;49m\u001b[38;5;124;43m\"\u001b[39;49m\u001b[43m)\u001b[49m)\n",
      "File \u001b[1;32mc:\\Users\\brics\\Documents\\git_repos\\metro\\chatbot-metro\\venv\\lib\\site-packages\\ipykernel\\kernelbase.py:1282\u001b[0m, in \u001b[0;36mKernel.raw_input\u001b[1;34m(self, prompt)\u001b[0m\n\u001b[0;32m   1280\u001b[0m     msg \u001b[38;5;241m=\u001b[39m \u001b[38;5;124m\"\u001b[39m\u001b[38;5;124mraw_input was called, but this frontend does not support input requests.\u001b[39m\u001b[38;5;124m\"\u001b[39m\n\u001b[0;32m   1281\u001b[0m     \u001b[38;5;28;01mraise\u001b[39;00m StdinNotImplementedError(msg)\n\u001b[1;32m-> 1282\u001b[0m \u001b[38;5;28;01mreturn\u001b[39;00m \u001b[38;5;28;43mself\u001b[39;49m\u001b[38;5;241;43m.\u001b[39;49m\u001b[43m_input_request\u001b[49m\u001b[43m(\u001b[49m\n\u001b[0;32m   1283\u001b[0m \u001b[43m    \u001b[49m\u001b[38;5;28;43mstr\u001b[39;49m\u001b[43m(\u001b[49m\u001b[43mprompt\u001b[49m\u001b[43m)\u001b[49m\u001b[43m,\u001b[49m\n\u001b[0;32m   1284\u001b[0m \u001b[43m    \u001b[49m\u001b[38;5;28;43mself\u001b[39;49m\u001b[38;5;241;43m.\u001b[39;49m\u001b[43m_parent_ident\u001b[49m\u001b[43m[\u001b[49m\u001b[38;5;124;43m\"\u001b[39;49m\u001b[38;5;124;43mshell\u001b[39;49m\u001b[38;5;124;43m\"\u001b[39;49m\u001b[43m]\u001b[49m\u001b[43m,\u001b[49m\n\u001b[0;32m   1285\u001b[0m \u001b[43m    \u001b[49m\u001b[38;5;28;43mself\u001b[39;49m\u001b[38;5;241;43m.\u001b[39;49m\u001b[43mget_parent\u001b[49m\u001b[43m(\u001b[49m\u001b[38;5;124;43m\"\u001b[39;49m\u001b[38;5;124;43mshell\u001b[39;49m\u001b[38;5;124;43m\"\u001b[39;49m\u001b[43m)\u001b[49m\u001b[43m,\u001b[49m\n\u001b[0;32m   1286\u001b[0m \u001b[43m    \u001b[49m\u001b[43mpassword\u001b[49m\u001b[38;5;241;43m=\u001b[39;49m\u001b[38;5;28;43;01mFalse\u001b[39;49;00m\u001b[43m,\u001b[49m\n\u001b[0;32m   1287\u001b[0m \u001b[43m\u001b[49m\u001b[43m)\u001b[49m\n",
      "File \u001b[1;32mc:\\Users\\brics\\Documents\\git_repos\\metro\\chatbot-metro\\venv\\lib\\site-packages\\ipykernel\\kernelbase.py:1325\u001b[0m, in \u001b[0;36mKernel._input_request\u001b[1;34m(self, prompt, ident, parent, password)\u001b[0m\n\u001b[0;32m   1322\u001b[0m \u001b[38;5;28;01mexcept\u001b[39;00m \u001b[38;5;167;01mKeyboardInterrupt\u001b[39;00m:\n\u001b[0;32m   1323\u001b[0m     \u001b[38;5;66;03m# re-raise KeyboardInterrupt, to truncate traceback\u001b[39;00m\n\u001b[0;32m   1324\u001b[0m     msg \u001b[38;5;241m=\u001b[39m \u001b[38;5;124m\"\u001b[39m\u001b[38;5;124mInterrupted by user\u001b[39m\u001b[38;5;124m\"\u001b[39m\n\u001b[1;32m-> 1325\u001b[0m     \u001b[38;5;28;01mraise\u001b[39;00m \u001b[38;5;167;01mKeyboardInterrupt\u001b[39;00m(msg) \u001b[38;5;28;01mfrom\u001b[39;00m \u001b[38;5;28;01mNone\u001b[39;00m\n\u001b[0;32m   1326\u001b[0m \u001b[38;5;28;01mexcept\u001b[39;00m \u001b[38;5;167;01mException\u001b[39;00m:\n\u001b[0;32m   1327\u001b[0m     \u001b[38;5;28mself\u001b[39m\u001b[38;5;241m.\u001b[39mlog\u001b[38;5;241m.\u001b[39mwarning(\u001b[38;5;124m\"\u001b[39m\u001b[38;5;124mInvalid Message:\u001b[39m\u001b[38;5;124m\"\u001b[39m, exc_info\u001b[38;5;241m=\u001b[39m\u001b[38;5;28;01mTrue\u001b[39;00m)\n",
      "\u001b[1;31mKeyboardInterrupt\u001b[0m: Interrupted by user"
     ]
    }
   ],
   "source": [
    "pergunta = str(input(\"pergunta: \"))\n",
    "while True:\n",
    "    \n",
    "    \n",
    "    response1 = chain_with_history.invoke(\n",
    "        \n",
    "        {\"input\": pergunta},\n",
    "        config={\"configurable\": {\"session_id\": \"1121\"}},\n",
    "    )\n",
    "\n",
    "    print(response1.content)\n",
    "    pergunta = str(input(\"pergunta: \"))\n"
   ]
  }
 ],
 "metadata": {
  "kernelspec": {
   "display_name": "venv",
   "language": "python",
   "name": "python3"
  },
  "language_info": {
   "codemirror_mode": {
    "name": "ipython",
    "version": 3
   },
   "file_extension": ".py",
   "mimetype": "text/x-python",
   "name": "python",
   "nbconvert_exporter": "python",
   "pygments_lexer": "ipython3",
   "version": "3.10.0"
  }
 },
 "nbformat": 4,
 "nbformat_minor": 2
}
