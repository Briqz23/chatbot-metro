{
 "cells": [
  {
   "cell_type": "code",
   "execution_count": 13,
   "metadata": {},
   "outputs": [],
   "source": [
    "from langchain.utils.math import cosine_similarity\n",
    "from langchain_core.output_parsers import StrOutputParser\n",
    "from langchain_core.prompts import PromptTemplate\n",
    "from langchain_core.runnables import RunnableLambda,RunnablePassthrough\n",
    "from langchain_community.chat_models import ChatOpenAI\n",
    "from langchain_openai import OpenAIEmbeddings\n"
   ]
  },
  {
   "cell_type": "code",
   "execution_count": 9,
   "metadata": {},
   "outputs": [],
   "source": [
    "from openai import OpenAI\n",
    "from dotenv import load_dotenv\n",
    "\n",
    "load_dotenv() \n",
    "client = OpenAI()"
   ]
  },
  {
   "cell_type": "code",
   "execution_count": 30,
   "metadata": {},
   "outputs": [],
   "source": [
    "agente_rotas_template = \"\"\"Você é um especialista no sistema de Metrô de São Paulo, com foco em determinar as melhores rotas para os passageiros. \\\n",
    "      Você tem amplo conhecimento sobre as linhas do metrô, suas interligações e horários de pico, fornecendo alternativas rápidas e eficientes para quem utiliza o metrô.\n",
    "\n",
    "Aqui está a pergunta:\n",
    "{query}\"\"\"\n",
    "\n",
    "agente_horarios_template = \"\"\"Você é um especialista em atualizações sobre o sistema de Metrô de São Paulo. \\\n",
    "    Você informa sobre greves, interrupções e atrasos, além de conhecer detalhadamente os horários de operação do metrô. \\\n",
    "        Você sugere opções alternativas para os passageiros durante períodos de interrupção do serviço.\n",
    "\n",
    "Aqui está a pergunta:\n",
    "{query}\"\"\"\n",
    "\n",
    "agente_politicas_template = \"\"\"Você é um especialista em políticas públicas relacionadas ao sistema de Metrô de São Paulo. \\\n",
    "    Você tem conhecimento detalhado sobre as leis, regulamentos e iniciativas que afetam o metrô, e oferece respostas claras \\\n",
    "        e baseadas em fatos sobre como essas políticas impactam os passageiros.\n",
    "\n",
    "Aqui está a pergunta:\n",
    "{query}\"\"\"\n",
    "\n"
   ]
  },
  {
   "cell_type": "code",
   "execution_count": 12,
   "metadata": {},
   "outputs": [],
   "source": [
    "rotas_perguntas = [\n",
    "    \"Qual é a rota mais rápida da estação Sé até a estação Vila Madalena?\",\n",
    "    \"Como posso evitar as estações mais lotadas durante o horário de pico?\",\n",
    "    \"Quais são as melhores conexões entre as linhas azul e verde do metrô?\",\n",
    "]\n",
    "\n",
    "horarios_perguntas = [\n",
    "    \"Há alguma greve no Metrô de São Paulo programada para esta semana?\",\n",
    "    \"O metrô está funcionando normalmente durante o feriado?\",\n",
    "    \"Quais são os horários de operação do metrô aos domingos?\",\n",
    "]\n",
    "\n",
    "politicas_perguntas = [\n",
    "    \"Quais são as políticas de acessibilidade nas estações do Metrô de São Paulo?\",\n",
    "    \"Como as tarifas do metrô são decididas e ajustadas?\",\n",
    "    \"Quais são as políticas de sustentabilidade adotadas pelo Metrô de São Paulo?\",\n",
    "]\n"
   ]
  },
  {
   "cell_type": "code",
   "execution_count": 31,
   "metadata": {},
   "outputs": [],
   "source": [
    "embeddings = OpenAIEmbeddings()\n",
    "\n",
    "rotas_perguntas_embeddings = embeddings.embed_documents(rotas_perguntas)\n",
    "horarios_perguntas_embeddings = embeddings.embed_documents(horarios_perguntas)\n",
    "politicas_perguntas_embeddings = embeddings.embed_documents(politicas_perguntas)"
   ]
  },
  {
   "cell_type": "code",
   "execution_count": 35,
   "metadata": {},
   "outputs": [
    {
     "name": "stdout",
     "output_type": "stream",
     "text": [
      "horarios\n"
     ]
    }
   ],
   "source": [
    "def prompt_router(input):\n",
    "    query_embedding = embeddings.embed_query(input[\"query\"])\n",
    "\n",
    "    rotas_similarity = cosine_similarity([query_embedding], rotas_perguntas_embeddings)[0]\n",
    "\n",
    "    horarios_similarity = cosine_similarity([query_embedding], horarios_perguntas_embeddings)[0]\n",
    "\n",
    "    politicas_similarity = cosine_similarity([query_embedding], politicas_perguntas_embeddings)[0]\n",
    "\n",
    "    max_similarity = max(\n",
    "        max(rotas_similarity), max(horarios_similarity), max(politicas_similarity)\n",
    "    )\n",
    "\n",
    "    if max_similarity == max(rotas_similarity):\n",
    "        print(\"rotas\")\n",
    "        return PromptTemplate.from_template(agente_rotas_template)\n",
    "    elif max_similarity == max(horarios_similarity):\n",
    "        print(\"horarios\")\n",
    "        return PromptTemplate.from_template(agente_horarios_template)\n",
    "    else:\n",
    "        print(\"politicas\")\n",
    "        return PromptTemplate.from_template(agente_politicas_template)\n",
    "\n",
    "\n",
    "input_query = {\"query\": \"Quando o metrô abre e fecha nos finds?\"}\n",
    "prompt = prompt_router(input_query)"
   ]
  },
  {
   "cell_type": "code",
   "execution_count": 36,
   "metadata": {},
   "outputs": [],
   "source": [
    "chain = (\n",
    "    {\"query\": RunnablePassthrough()}\n",
    "    | RunnableLambda(prompt_router)\n",
    "    | ChatOpenAI()\n",
    "    | StrOutputParser()\n",
    ")"
   ]
  },
  {
   "cell_type": "code",
   "execution_count": 37,
   "metadata": {},
   "outputs": [
    {
     "name": "stdout",
     "output_type": "stream",
     "text": [
      "rotas\n"
     ]
    },
    {
     "data": {
      "text/plain": [
       "'Para ir da estação Fradique Coutinho até a estação Sacomã, você pode seguir a seguinte rota:\\n\\n1. Pegue a Linha 4-Amarela do metrô na estação Fradique Coutinho e siga até a estação Paulista.\\n2. Na estação Paulista, faça a transferência para a Linha 2-Verde e siga até a estação Paraíso.\\n3. Na estação Paraíso, faça a transferência para a Linha 1-Azul e siga até a estação Ana Rosa.\\n4. Na estação Ana Rosa, faça a transferência para a Linha 2-Verde novamente e siga até a estação Sacomã.\\n\\nEssa rota pode variar de acordo com os horários de pico e eventuais interrupções no sistema. Sempre verifique a situação do metrô antes de sair, para garantir uma viagem tranquila e eficiente.'"
      ]
     },
     "execution_count": 37,
     "metadata": {},
     "output_type": "execute_result"
    }
   ],
   "source": [
    "chain.invoke(\"Como vou da fradique coutinho ate a sacoma?\")"
   ]
  }
 ],
 "metadata": {
  "kernelspec": {
   "display_name": "venv",
   "language": "python",
   "name": "python3"
  },
  "language_info": {
   "codemirror_mode": {
    "name": "ipython",
    "version": 3
   },
   "file_extension": ".py",
   "mimetype": "text/x-python",
   "name": "python",
   "nbconvert_exporter": "python",
   "pygments_lexer": "ipython3",
   "version": "3.10.0"
  }
 },
 "nbformat": 4,
 "nbformat_minor": 2
}
